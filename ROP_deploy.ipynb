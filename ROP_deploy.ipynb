{
 "cells": [
  {
   "cell_type": "code",
   "execution_count": 3,
   "id": "9ce5eed4",
   "metadata": {},
   "outputs": [],
   "source": [
    "#importing libraries\n",
    "import re\n",
    "# import shap\n",
    "# import pickle\n",
    "import joblib\n",
    "import warnings\n",
    "import numpy as np\n",
    "import pandas as pd\n",
    "# import xgboost as xgb\n",
    "# import lightgbm as lgb\n",
    "# import bamboolib as bam\n",
    "import category_encoders as ce\n",
    "import matplotlib.pyplot as plt\n",
    "from joblib import parallel_backend\n",
    "from sklearn.naive_bayes import GaussianNB\n",
    "from sklearn.ensemble import IsolationForest\n",
    "from sklearn.svm import LinearSVC, NuSVC, SVC\n",
    "from sklearn.tree import DecisionTreeClassifier\n",
    "np.set_printoptions(precision=3, suppress=True)\n",
    "from sklearn.model_selection import GridSearchCV\n",
    "from sklearn.exceptions import ConvergenceWarning\n",
    "from sklearn.neighbors import KNeighborsClassifier\n",
    "from sklearn.metrics import roc_curve, roc_auc_score\n",
    "from sklearn.inspection import permutation_importance\n",
    "from imblearn.under_sampling import RandomUnderSampler\n",
    "from sklearn.preprocessing import OneHotEncoder,LabelEncoder\n",
    "from sklearn.preprocessing import MinMaxScaler,StandardScaler\n",
    "warnings.filterwarnings(\"ignore\", category=ConvergenceWarning)\n",
    "from sklearn.model_selection import train_test_split,RepeatedStratifiedKFold\n",
    "from sklearn.metrics import accuracy_score, classification_report, confusion_matrix\n",
    "from sklearn.linear_model import LogisticRegression,LogisticRegressionCV,SGDClassifier\n",
    "from sklearn.ensemble import BaggingClassifier, ExtraTreesClassifier, RandomForestClassifier"
   ]
  },
  {
   "cell_type": "code",
   "execution_count": 4,
   "id": "dc1b5bbf",
   "metadata": {},
   "outputs": [
    {
     "data": {
      "text/plain": [
       "Index(['NICU_rating', 'Gender', 'Birth_Weight', 'O2_Therapy', 'Resp_Distress',\n",
       "       'Septicemia', 'Blood_Transfusion', 'Treatment_Received', 'GA_Days',\n",
       "       'PMA_Days', 'Age', 'Stage', 'Plus', 'Zone', 'NVI', 'ROP',\n",
       "       'treatment_new', 'Delivery_Type'],\n",
       "      dtype='object')"
      ]
     },
     "execution_count": 4,
     "metadata": {},
     "output_type": "execute_result"
    }
   ],
   "source": [
    "df = pd.read_excel(r\"Clean_file_for_model.xlsx\").drop(columns='Unnamed: 0')\n",
    "df.columns"
   ]
  },
  {
   "cell_type": "code",
   "execution_count": 5,
   "id": "65fb97b2",
   "metadata": {},
   "outputs": [
    {
     "name": "stdout",
     "output_type": "stream",
     "text": [
      "<class 'pandas.core.frame.DataFrame'>\n",
      "RangeIndex: 12305 entries, 0 to 12304\n",
      "Data columns (total 18 columns):\n",
      " #   Column              Non-Null Count  Dtype  \n",
      "---  ------              --------------  -----  \n",
      " 0   NICU_rating         3282 non-null   float64\n",
      " 1   Gender              9816 non-null   object \n",
      " 2   Birth_Weight        12204 non-null  float64\n",
      " 3   O2_Therapy          12305 non-null  object \n",
      " 4   Resp_Distress       12305 non-null  object \n",
      " 5   Septicemia          12305 non-null  object \n",
      " 6   Blood_Transfusion   12305 non-null  object \n",
      " 7   Treatment_Received  12227 non-null  object \n",
      " 8   GA_Days             12287 non-null  float64\n",
      " 9   PMA_Days            12273 non-null  float64\n",
      " 10  Age                 12305 non-null  int64  \n",
      " 11  Stage               1887 non-null   float64\n",
      " 12  Plus                1327 non-null   object \n",
      " 13  Zone                6793 non-null   float64\n",
      " 14  NVI                 12305 non-null  object \n",
      " 15  ROP                 12215 non-null  object \n",
      " 16  treatment_new       12305 non-null  object \n",
      " 17  Delivery_Type       3047 non-null   object \n",
      "dtypes: float64(6), int64(1), object(11)\n",
      "memory usage: 1.7+ MB\n"
     ]
    }
   ],
   "source": [
    "df.info()"
   ]
  },
  {
   "cell_type": "code",
   "execution_count": 26,
   "id": "be9f498e-f9c7-4af7-8684-0806635e1792",
   "metadata": {},
   "outputs": [
    {
     "data": {
      "text/plain": [
       "Full Term    3015\n",
       "Pre Term       32\n",
       "Name: Delivery_Type, dtype: int64"
      ]
     },
     "execution_count": 26,
     "metadata": {},
     "output_type": "execute_result"
    }
   ],
   "source": [
    "df['Delivery_Type'].value_counts()"
   ]
  },
  {
   "cell_type": "code",
   "execution_count": 6,
   "id": "2f5f0f22",
   "metadata": {},
   "outputs": [],
   "source": [
    "# New Feature\n",
    "df['Preterm_severity'] = 0\n",
    "df.loc[df['GA_Days'] <196, 'Preterm_severity'] = 3\n",
    "df.loc[(df['GA_Days'] >=196) & (df['GA_Days'] <224) , 'Preterm_severity'] = 2\n",
    "df.loc[(df['GA_Days'] >=224) & (df['GA_Days'] <= 259) , 'Preterm_severity'] = 1     "
   ]
  },
  {
   "cell_type": "code",
   "execution_count": 28,
   "id": "63ed634d",
   "metadata": {},
   "outputs": [],
   "source": [
    "## serialising/saving dataframe\n",
    "\n",
    "filename = 'final_dataframe_rop.joblib'\n",
    "joblib.dump(df, open(filename, 'wb')) \n"
   ]
  },
  {
   "cell_type": "code",
   "execution_count": 29,
   "id": "f1c48819-8190-43cb-996e-dd1a819ae259",
   "metadata": {},
   "outputs": [
    {
     "data": {
      "text/html": [
       "<div>\n",
       "<style scoped>\n",
       "    .dataframe tbody tr th:only-of-type {\n",
       "        vertical-align: middle;\n",
       "    }\n",
       "\n",
       "    .dataframe tbody tr th {\n",
       "        vertical-align: top;\n",
       "    }\n",
       "\n",
       "    .dataframe thead th {\n",
       "        text-align: right;\n",
       "    }\n",
       "</style>\n",
       "<table border=\"1\" class=\"dataframe\">\n",
       "  <thead>\n",
       "    <tr style=\"text-align: right;\">\n",
       "      <th></th>\n",
       "      <th>NICU_rating</th>\n",
       "      <th>Gender</th>\n",
       "      <th>Birth_Weight</th>\n",
       "      <th>O2_Therapy</th>\n",
       "      <th>Resp_Distress</th>\n",
       "      <th>Septicemia</th>\n",
       "      <th>Blood_Transfusion</th>\n",
       "      <th>Treatment_Received</th>\n",
       "      <th>GA_Days</th>\n",
       "      <th>PMA_Days</th>\n",
       "      <th>Age</th>\n",
       "      <th>Stage</th>\n",
       "      <th>Plus</th>\n",
       "      <th>Zone</th>\n",
       "      <th>NVI</th>\n",
       "      <th>ROP</th>\n",
       "      <th>treatment_new</th>\n",
       "      <th>Delivery_Type</th>\n",
       "      <th>Preterm_severity</th>\n",
       "    </tr>\n",
       "  </thead>\n",
       "  <tbody>\n",
       "    <tr>\n",
       "      <th>0</th>\n",
       "      <td>NaN</td>\n",
       "      <td>M</td>\n",
       "      <td>1800.0</td>\n",
       "      <td>N</td>\n",
       "      <td>N</td>\n",
       "      <td>N</td>\n",
       "      <td>N</td>\n",
       "      <td>N</td>\n",
       "      <td>196.0</td>\n",
       "      <td>392.0</td>\n",
       "      <td>196</td>\n",
       "      <td>5.0</td>\n",
       "      <td>NaN</td>\n",
       "      <td>NaN</td>\n",
       "      <td>N</td>\n",
       "      <td>rop</td>\n",
       "      <td>N</td>\n",
       "      <td>NaN</td>\n",
       "      <td>2</td>\n",
       "    </tr>\n",
       "    <tr>\n",
       "      <th>1</th>\n",
       "      <td>NaN</td>\n",
       "      <td>F</td>\n",
       "      <td>1600.0</td>\n",
       "      <td>N</td>\n",
       "      <td>N</td>\n",
       "      <td>N</td>\n",
       "      <td>N</td>\n",
       "      <td>N</td>\n",
       "      <td>238.0</td>\n",
       "      <td>312.0</td>\n",
       "      <td>74</td>\n",
       "      <td>NaN</td>\n",
       "      <td>NaN</td>\n",
       "      <td>NaN</td>\n",
       "      <td>N</td>\n",
       "      <td>rop</td>\n",
       "      <td>N</td>\n",
       "      <td>NaN</td>\n",
       "      <td>1</td>\n",
       "    </tr>\n",
       "    <tr>\n",
       "      <th>2</th>\n",
       "      <td>NaN</td>\n",
       "      <td>M</td>\n",
       "      <td>1500.0</td>\n",
       "      <td>Y</td>\n",
       "      <td>N</td>\n",
       "      <td>Y</td>\n",
       "      <td>N</td>\n",
       "      <td>N</td>\n",
       "      <td>224.0</td>\n",
       "      <td>265.0</td>\n",
       "      <td>41</td>\n",
       "      <td>NaN</td>\n",
       "      <td>NaN</td>\n",
       "      <td>NaN</td>\n",
       "      <td>N</td>\n",
       "      <td>no rop</td>\n",
       "      <td>N</td>\n",
       "      <td>NaN</td>\n",
       "      <td>1</td>\n",
       "    </tr>\n",
       "    <tr>\n",
       "      <th>3</th>\n",
       "      <td>NaN</td>\n",
       "      <td>M</td>\n",
       "      <td>1500.0</td>\n",
       "      <td>N</td>\n",
       "      <td>N</td>\n",
       "      <td>N</td>\n",
       "      <td>N</td>\n",
       "      <td>N</td>\n",
       "      <td>231.0</td>\n",
       "      <td>287.0</td>\n",
       "      <td>56</td>\n",
       "      <td>NaN</td>\n",
       "      <td>NaN</td>\n",
       "      <td>NaN</td>\n",
       "      <td>N</td>\n",
       "      <td>no rop</td>\n",
       "      <td>N</td>\n",
       "      <td>NaN</td>\n",
       "      <td>1</td>\n",
       "    </tr>\n",
       "    <tr>\n",
       "      <th>4</th>\n",
       "      <td>NaN</td>\n",
       "      <td>F</td>\n",
       "      <td>1400.0</td>\n",
       "      <td>N</td>\n",
       "      <td>N</td>\n",
       "      <td>Y</td>\n",
       "      <td>N</td>\n",
       "      <td>N</td>\n",
       "      <td>231.0</td>\n",
       "      <td>231.0</td>\n",
       "      <td>0</td>\n",
       "      <td>NaN</td>\n",
       "      <td>NaN</td>\n",
       "      <td>NaN</td>\n",
       "      <td>N</td>\n",
       "      <td>rop</td>\n",
       "      <td>N</td>\n",
       "      <td>Full Term</td>\n",
       "      <td>1</td>\n",
       "    </tr>\n",
       "  </tbody>\n",
       "</table>\n",
       "</div>"
      ],
      "text/plain": [
       "   NICU_rating Gender  Birth_Weight O2_Therapy Resp_Distress Septicemia  \\\n",
       "0          NaN      M        1800.0          N             N          N   \n",
       "1          NaN      F        1600.0          N             N          N   \n",
       "2          NaN      M        1500.0          Y             N          Y   \n",
       "3          NaN      M        1500.0          N             N          N   \n",
       "4          NaN      F        1400.0          N             N          Y   \n",
       "\n",
       "  Blood_Transfusion Treatment_Received  GA_Days  PMA_Days  Age  Stage Plus  \\\n",
       "0                 N                  N    196.0     392.0  196    5.0  NaN   \n",
       "1                 N                  N    238.0     312.0   74    NaN  NaN   \n",
       "2                 N                  N    224.0     265.0   41    NaN  NaN   \n",
       "3                 N                  N    231.0     287.0   56    NaN  NaN   \n",
       "4                 N                  N    231.0     231.0    0    NaN  NaN   \n",
       "\n",
       "   Zone NVI     ROP treatment_new Delivery_Type  Preterm_severity  \n",
       "0   NaN   N     rop             N           NaN                 2  \n",
       "1   NaN   N     rop             N           NaN                 1  \n",
       "2   NaN   N  no rop             N           NaN                 1  \n",
       "3   NaN   N  no rop             N           NaN                 1  \n",
       "4   NaN   N     rop             N     Full Term                 1  "
      ]
     },
     "execution_count": 29,
     "metadata": {},
     "output_type": "execute_result"
    }
   ],
   "source": [
    "df.head()"
   ]
  },
  {
   "cell_type": "code",
   "execution_count": 8,
   "id": "a8b7f726",
   "metadata": {},
   "outputs": [
    {
     "data": {
      "text/plain": [
       "rop       8186\n",
       "no rop    4029\n",
       "Name: ROP, dtype: int64"
      ]
     },
     "execution_count": 8,
     "metadata": {},
     "output_type": "execute_result"
    }
   ],
   "source": [
    "df['ROP'].value_counts()"
   ]
  },
  {
   "cell_type": "code",
   "execution_count": 9,
   "id": "58c063f0",
   "metadata": {},
   "outputs": [
    {
     "data": {
      "text/plain": [
       "1.0    1363\n",
       "2.0    1334\n",
       "3.0     497\n",
       "4.0      88\n",
       "Name: NICU_rating, dtype: int64"
      ]
     },
     "execution_count": 9,
     "metadata": {},
     "output_type": "execute_result"
    }
   ],
   "source": [
    "df['NICU_rating'].value_counts()"
   ]
  },
  {
   "cell_type": "markdown",
   "id": "0dd66a01",
   "metadata": {},
   "source": [
    "### 1. Treatment prediction model with nicu target encoded"
   ]
  },
  {
   "cell_type": "code",
   "execution_count": 10,
   "id": "a7312638",
   "metadata": {},
   "outputs": [],
   "source": [
    "# Step: Drop columns\n",
    "# dropping 'Age' as it shows 74% colinearity with pma days & 'o2 therapy' because it does not playing any role\n",
    "df_ROP = df.drop(columns=['Stage', 'Plus','Zone', 'NVI','Treatment_Received','treatment_new','PMA_Days'])\n",
    "\n",
    "def label_encode(df_ROP):\n",
    "    # Define the encoding map for 'Y', 'N', 'rop', and 'no rop'\n",
    "    encoding_map = {'Y': 1, 'N': 0, 'rop': 1, 'no rop': 0, 'Full Term':0, 'Pre Term': 1,'M':1,'F':0}\n",
    "    \n",
    "    # Loop through all object (string) type columns\n",
    "    for col in df_ROP.select_dtypes(include=['object']).columns:\n",
    "        df_ROP[col] = df_ROP[col].map(encoding_map) \n",
    "    \n",
    "    return df_ROP\n",
    "\n",
    "# Apply the function to the DataFrame\n",
    "df_ROP = label_encode(df_ROP)"
   ]
  },
  {
   "cell_type": "code",
   "execution_count": 11,
   "id": "179fb1f5",
   "metadata": {},
   "outputs": [],
   "source": [
    "# Change data type to Object\n",
    "df_ROP['NICU_rating'] = df_ROP['NICU_rating'].astype('object')"
   ]
  },
  {
   "cell_type": "code",
   "execution_count": 12,
   "id": "42c0aeec",
   "metadata": {},
   "outputs": [
    {
     "name": "stdout",
     "output_type": "stream",
     "text": [
      "<class 'pandas.core.frame.DataFrame'>\n",
      "RangeIndex: 12305 entries, 0 to 12304\n",
      "Data columns (total 12 columns):\n",
      " #   Column             Non-Null Count  Dtype  \n",
      "---  ------             --------------  -----  \n",
      " 0   NICU_rating        3282 non-null   object \n",
      " 1   Gender             9816 non-null   float64\n",
      " 2   Birth_Weight       12204 non-null  float64\n",
      " 3   O2_Therapy         12305 non-null  int64  \n",
      " 4   Resp_Distress      12305 non-null  int64  \n",
      " 5   Septicemia         12305 non-null  int64  \n",
      " 6   Blood_Transfusion  12305 non-null  int64  \n",
      " 7   GA_Days            12287 non-null  float64\n",
      " 8   Age                12305 non-null  int64  \n",
      " 9   ROP                12215 non-null  float64\n",
      " 10  Delivery_Type      3047 non-null   float64\n",
      " 11  Preterm_severity   12305 non-null  int64  \n",
      "dtypes: float64(5), int64(6), object(1)\n",
      "memory usage: 1.1+ MB\n"
     ]
    }
   ],
   "source": [
    "df_ROP.info()"
   ]
  },
  {
   "cell_type": "code",
   "execution_count": 13,
   "id": "eb39173b",
   "metadata": {},
   "outputs": [],
   "source": [
    "#creating dataframe with 0 missing values fro model training\n",
    "df_ROP_notNull = df_ROP.dropna()"
   ]
  },
  {
   "cell_type": "code",
   "execution_count": 14,
   "id": "d1f6cc40",
   "metadata": {},
   "outputs": [
    {
     "data": {
      "text/plain": [
       "(854, 12)"
      ]
     },
     "execution_count": 14,
     "metadata": {},
     "output_type": "execute_result"
    }
   ],
   "source": [
    "df_ROP_notNull.shape"
   ]
  },
  {
   "cell_type": "code",
   "execution_count": 15,
   "id": "dd4796bc",
   "metadata": {},
   "outputs": [
    {
     "data": {
      "text/plain": [
       "1.0    505\n",
       "0.0    349\n",
       "Name: ROP, dtype: int64"
      ]
     },
     "execution_count": 15,
     "metadata": {},
     "output_type": "execute_result"
    }
   ],
   "source": [
    "df_ROP_notNull['ROP'].value_counts()"
   ]
  },
  {
   "cell_type": "markdown",
   "id": "45be9de9",
   "metadata": {},
   "source": [
    "### Removing outliers"
   ]
  },
  {
   "cell_type": "code",
   "execution_count": 16,
   "id": "3be52384",
   "metadata": {},
   "outputs": [
    {
     "name": "stdout",
     "output_type": "stream",
     "text": [
      "Number of records deleted: 34\n"
     ]
    }
   ],
   "source": [
    "def remove_outliers(df):\n",
    "    # Select only numeric columns\n",
    "    numeric_cols = ['Birth_Weight','GA_Days', 'Age']\n",
    "    \n",
    "    # Calculate the z-scores (standard deviation from the mean)\n",
    "    z_scores = (df[numeric_cols] - df[numeric_cols].mean()) / df[numeric_cols].std()\n",
    "    \n",
    "    # Create a mask where values are within 3 standard deviations (-3 <= z <= 3)\n",
    "    mask = (z_scores >= -3) & (z_scores <= 3)\n",
    "    \n",
    "    # Keep only rows where all values in numeric columns are within the threshold\n",
    "    filtered_df = df[mask.all(axis=1)]\n",
    "    \n",
    "    # Count the number of rows deleted\n",
    "    rows_deleted = len(df) - len(filtered_df)\n",
    "    \n",
    "    print(f\"Number of records deleted: {rows_deleted}\")\n",
    "    \n",
    "    return filtered_df\n",
    "\n",
    "df_ROP_notNull = remove_outliers(df_ROP_notNull)"
   ]
  },
  {
   "cell_type": "code",
   "execution_count": 17,
   "id": "30a5373f",
   "metadata": {},
   "outputs": [
    {
     "data": {
      "text/plain": [
       "1.0    480\n",
       "0.0    340\n",
       "Name: ROP, dtype: int64"
      ]
     },
     "execution_count": 17,
     "metadata": {},
     "output_type": "execute_result"
    }
   ],
   "source": [
    "df_ROP_notNull['ROP'].value_counts()"
   ]
  },
  {
   "cell_type": "markdown",
   "id": "3628a2e8",
   "metadata": {},
   "source": [
    "### Train test val split"
   ]
  },
  {
   "cell_type": "code",
   "execution_count": 18,
   "id": "7305dc58",
   "metadata": {},
   "outputs": [],
   "source": [
    "X = df_ROP_notNull.drop(columns='ROP')\n",
    "y = df_ROP_notNull['ROP']\n",
    "\n",
    "#splitting for test set\n",
    "X_tr, X_test, y_tr, y_test = train_test_split(X, y, test_size=0.2, random_state=42, stratify=y)\n",
    "\n",
    "#splitting for validation set\n",
    "X_train, X_val, y_train, y_val = train_test_split(X_tr, y_tr, test_size=0.2, random_state=42, stratify=y_tr)\n"
   ]
  },
  {
   "cell_type": "code",
   "execution_count": 24,
   "id": "116486f9-34a3-467b-8a40-827d05b5865d",
   "metadata": {},
   "outputs": [
    {
     "data": {
      "text/html": [
       "<div>\n",
       "<style scoped>\n",
       "    .dataframe tbody tr th:only-of-type {\n",
       "        vertical-align: middle;\n",
       "    }\n",
       "\n",
       "    .dataframe tbody tr th {\n",
       "        vertical-align: top;\n",
       "    }\n",
       "\n",
       "    .dataframe thead th {\n",
       "        text-align: right;\n",
       "    }\n",
       "</style>\n",
       "<table border=\"1\" class=\"dataframe\">\n",
       "  <thead>\n",
       "    <tr style=\"text-align: right;\">\n",
       "      <th></th>\n",
       "      <th>NICU_rating</th>\n",
       "      <th>Gender</th>\n",
       "      <th>Birth_Weight</th>\n",
       "      <th>O2_Therapy</th>\n",
       "      <th>Resp_Distress</th>\n",
       "      <th>Septicemia</th>\n",
       "      <th>Blood_Transfusion</th>\n",
       "      <th>GA_Days</th>\n",
       "      <th>Age</th>\n",
       "      <th>Delivery_Type</th>\n",
       "      <th>Preterm_severity</th>\n",
       "    </tr>\n",
       "  </thead>\n",
       "  <tbody>\n",
       "    <tr>\n",
       "      <th>10233</th>\n",
       "      <td>1.0</td>\n",
       "      <td>1.0</td>\n",
       "      <td>1700.0</td>\n",
       "      <td>0</td>\n",
       "      <td>0</td>\n",
       "      <td>0</td>\n",
       "      <td>0</td>\n",
       "      <td>245.0</td>\n",
       "      <td>23</td>\n",
       "      <td>0.0</td>\n",
       "      <td>1</td>\n",
       "    </tr>\n",
       "    <tr>\n",
       "      <th>9680</th>\n",
       "      <td>1.0</td>\n",
       "      <td>0.0</td>\n",
       "      <td>1500.0</td>\n",
       "      <td>1</td>\n",
       "      <td>0</td>\n",
       "      <td>0</td>\n",
       "      <td>0</td>\n",
       "      <td>224.0</td>\n",
       "      <td>54</td>\n",
       "      <td>0.0</td>\n",
       "      <td>1</td>\n",
       "    </tr>\n",
       "    <tr>\n",
       "      <th>9684</th>\n",
       "      <td>1.0</td>\n",
       "      <td>1.0</td>\n",
       "      <td>1790.0</td>\n",
       "      <td>1</td>\n",
       "      <td>0</td>\n",
       "      <td>0</td>\n",
       "      <td>0</td>\n",
       "      <td>224.0</td>\n",
       "      <td>51</td>\n",
       "      <td>0.0</td>\n",
       "      <td>1</td>\n",
       "    </tr>\n",
       "    <tr>\n",
       "      <th>8603</th>\n",
       "      <td>2.0</td>\n",
       "      <td>1.0</td>\n",
       "      <td>920.0</td>\n",
       "      <td>1</td>\n",
       "      <td>1</td>\n",
       "      <td>1</td>\n",
       "      <td>1</td>\n",
       "      <td>183.0</td>\n",
       "      <td>242</td>\n",
       "      <td>0.0</td>\n",
       "      <td>3</td>\n",
       "    </tr>\n",
       "    <tr>\n",
       "      <th>9205</th>\n",
       "      <td>2.0</td>\n",
       "      <td>1.0</td>\n",
       "      <td>1310.0</td>\n",
       "      <td>1</td>\n",
       "      <td>1</td>\n",
       "      <td>0</td>\n",
       "      <td>1</td>\n",
       "      <td>196.0</td>\n",
       "      <td>50</td>\n",
       "      <td>0.0</td>\n",
       "      <td>2</td>\n",
       "    </tr>\n",
       "  </tbody>\n",
       "</table>\n",
       "</div>"
      ],
      "text/plain": [
       "      NICU_rating  Gender  Birth_Weight  O2_Therapy  Resp_Distress  \\\n",
       "10233         1.0     1.0        1700.0           0              0   \n",
       "9680          1.0     0.0        1500.0           1              0   \n",
       "9684          1.0     1.0        1790.0           1              0   \n",
       "8603          2.0     1.0         920.0           1              1   \n",
       "9205          2.0     1.0        1310.0           1              1   \n",
       "\n",
       "       Septicemia  Blood_Transfusion  GA_Days  Age  Delivery_Type  \\\n",
       "10233           0                  0    245.0   23            0.0   \n",
       "9680            0                  0    224.0   54            0.0   \n",
       "9684            0                  0    224.0   51            0.0   \n",
       "8603            1                  1    183.0  242            0.0   \n",
       "9205            0                  1    196.0   50            0.0   \n",
       "\n",
       "       Preterm_severity  \n",
       "10233                 1  \n",
       "9680                  1  \n",
       "9684                  1  \n",
       "8603                  3  \n",
       "9205                  2  "
      ]
     },
     "execution_count": 24,
     "metadata": {},
     "output_type": "execute_result"
    }
   ],
   "source": [
    "X_tr.head()"
   ]
  },
  {
   "cell_type": "code",
   "execution_count": 25,
   "id": "83d07a14-cfbf-4926-bf94-5e038d394b96",
   "metadata": {},
   "outputs": [
    {
     "data": {
      "text/plain": [
       "Index(['NICU_rating', 'Gender', 'Birth_Weight', 'O2_Therapy', 'Resp_Distress',\n",
       "       'Septicemia', 'Blood_Transfusion', 'GA_Days', 'Age', 'Delivery_Type',\n",
       "       'Preterm_severity'],\n",
       "      dtype='object')"
      ]
     },
     "execution_count": 25,
     "metadata": {},
     "output_type": "execute_result"
    }
   ],
   "source": [
    "X_tr.columns"
   ]
  },
  {
   "cell_type": "code",
   "execution_count": 19,
   "id": "c0ed2958",
   "metadata": {},
   "outputs": [
    {
     "data": {
      "text/plain": [
       "1.0    307\n",
       "0.0    217\n",
       "Name: ROP, dtype: int64"
      ]
     },
     "execution_count": 19,
     "metadata": {},
     "output_type": "execute_result"
    }
   ],
   "source": [
    "y_train.value_counts()"
   ]
  },
  {
   "cell_type": "code",
   "execution_count": 20,
   "id": "16207047",
   "metadata": {},
   "outputs": [
    {
     "name": "stdout",
     "output_type": "stream",
     "text": [
      "Training samples : (524, 11)\n",
      "Test samples : (164, 11)\n",
      "Validation samples : (132, 11)\n"
     ]
    }
   ],
   "source": [
    "print(\"Training samples :\", X_train.shape)\n",
    "print(\"Test samples :\", X_test.shape)\n",
    "print(\"Validation samples :\", X_val.shape)"
   ]
  },
  {
   "cell_type": "markdown",
   "id": "43f2e7f6",
   "metadata": {},
   "source": [
    "### Logistic Regression\n"
   ]
  },
  {
   "cell_type": "code",
   "execution_count": 21,
   "id": "836b7eee",
   "metadata": {},
   "outputs": [
    {
     "data": {
      "text/plain": [
       "['rop_pipe.joblib']"
      ]
     },
     "execution_count": 21,
     "metadata": {},
     "output_type": "execute_result"
    }
   ],
   "source": [
    "from sklearn.pipeline import Pipeline\n",
    "from sklearn.compose import ColumnTransformer\n",
    "from sklearn.preprocessing import StandardScaler\n",
    "import category_encoders as ce\n",
    "import pickle\n",
    "\n",
    "# Define the columns for transformation\n",
    "categorical_cols = ['NICU_rating'] # target encoding\n",
    "numerical_cols = ['Birth_Weight', 'GA_Days', 'Age'] #standard scaler\n",
    "\n",
    "# Preprocessing pipeline\n",
    "preprocessor = ColumnTransformer(\n",
    "    transformers=[\n",
    "        ('woe', ce.WOEEncoder(), categorical_cols),\n",
    "        ('scale', StandardScaler(), numerical_cols)\n",
    "    ], remainder='passthrough'  # to keep the rest of the columns as-is\n",
    ")\n",
    "\n",
    "\n",
    "logit = LogisticRegression(class_weight='balanced',random_state=42)\n",
    "\n",
    "# Create the pipeline\n",
    "pipe = Pipeline(steps=[\n",
    "    ('preprocessor', preprocessor),\n",
    "    ('model', logit)\n",
    "])\n",
    "\n",
    "# Assuming X_train and y_train are your features and target from training data\n",
    "# Fit the pipeline to the training data\n",
    "pipe.fit(X_train, y_train)\n",
    "\n",
    "# Save the fitted pipeline\n",
    "joblib.dump(pipe, 'rop_pipe.joblib')\n"
   ]
  },
  {
   "cell_type": "code",
   "execution_count": 22,
   "id": "e6de93ab",
   "metadata": {},
   "outputs": [
    {
     "name": "stdout",
     "output_type": "stream",
     "text": [
      "---------------------------------------------------------------\n",
      "\u001b[1m             Logistic regression : Train Accuracy\u001b[0m\n",
      "---------------------------------------------------------------\n",
      "Accuracy: 0.8244274809160306\n",
      "              precision    recall  f1-score   support\n",
      "\n",
      "         0.0       0.76      0.84      0.80       217\n",
      "         1.0       0.88      0.81      0.84       307\n",
      "\n",
      "    accuracy                           0.82       524\n",
      "   macro avg       0.82      0.83      0.82       524\n",
      "weighted avg       0.83      0.82      0.83       524\n",
      "\n",
      "---------------------------------------------------------------\n",
      "\u001b[1m             Logistic regression : Validation Accuracy\u001b[0m\n",
      "---------------------------------------------------------------\n",
      "Accuracy: 0.8333333333333334\n",
      "              precision    recall  f1-score   support\n",
      "\n",
      "         0.0       0.78      0.84      0.81        55\n",
      "         1.0       0.88      0.83      0.85        77\n",
      "\n",
      "    accuracy                           0.83       132\n",
      "   macro avg       0.83      0.83      0.83       132\n",
      "weighted avg       0.84      0.83      0.83       132\n",
      "\n",
      "---------------------------------------------------------------\n",
      "\u001b[1m             Logistic regression : Test Accuracy\u001b[0m\n",
      "---------------------------------------------------------------\n",
      "Accuracy: 0.7926829268292683\n",
      "              precision    recall  f1-score   support\n",
      "\n",
      "         0.0       0.70      0.88      0.78        68\n",
      "         1.0       0.90      0.73      0.80        96\n",
      "\n",
      "    accuracy                           0.79       164\n",
      "   macro avg       0.80      0.81      0.79       164\n",
      "weighted avg       0.81      0.79      0.79       164\n",
      "\n"
     ]
    }
   ],
   "source": [
    "# Make predictions on the val set\n",
    "y_train_pred = pipe.predict(X_train)\n",
    "\n",
    "# Evaluate the model\n",
    "print('---------------------------------------------------------------')\n",
    "print('\\033[1m             Logistic regression : Train Accuracy\\033[0m')\n",
    "print('---------------------------------------------------------------')\n",
    "print(\"Accuracy:\", accuracy_score(y_train, y_train_pred))\n",
    "print(classification_report(y_train, y_train_pred))\n",
    "\n",
    "y_val_pred = pipe.predict(X_val)\n",
    "print('---------------------------------------------------------------')\n",
    "print('\\033[1m             Logistic regression : Validation Accuracy\\033[0m')\n",
    "print('---------------------------------------------------------------')\n",
    "\n",
    "print(\"Accuracy:\", accuracy_score(y_val, y_val_pred))\n",
    "print(classification_report(y_val, y_val_pred))\n",
    "\n",
    "y_test_pred = pipe.predict(X_test)\n",
    "print('---------------------------------------------------------------')\n",
    "print('\\033[1m             Logistic regression : Test Accuracy\\033[0m')\n",
    "print('---------------------------------------------------------------')\n",
    "\n",
    "print(\"Accuracy:\", accuracy_score(y_test, y_test_pred))\n",
    "print(classification_report(y_test, y_test_pred))"
   ]
  },
  {
   "cell_type": "code",
   "execution_count": 24,
   "id": "8287d074",
   "metadata": {},
   "outputs": [
    {
     "name": "stdout",
     "output_type": "stream",
     "text": [
      "ROC AUC: 0.8057598039215685\n"
     ]
    },
    {
     "data": {
      "image/png": "[encoded data removed]",
      "text/plain": [
       "<Figure size 640x480 with 1 Axes>"
      ]
     },
     "metadata": {},
     "output_type": "display_data"
    }
   ],
   "source": [
    "fpr, tpr, thresholds = roc_curve(y_test, y_test_pred)\n",
    "\n",
    "# Computing the AUC\n",
    "auc = roc_auc_score(y_test, y_test_pred)\n",
    "print(f'ROC AUC: {auc}')\n",
    "\n",
    "# Plotting the ROC curve\n",
    "plt.figure()\n",
    "plt.plot(fpr, tpr, color='blue', label=f'ROC curve (AUC = {auc:.2f})')\n",
    "plt.plot([0, 1], [0, 1], color='gray', linestyle='--')  # Dashed diagonal\n",
    "plt.xlim([0.0, 1.0])\n",
    "plt.ylim([0.0, 1.05])\n",
    "plt.xlabel('False Positive Rate')\n",
    "plt.ylabel('True Positive Rate')\n",
    "plt.title('Logit: ROC Curve')\n",
    "plt.legend(loc=\"lower right\")\n",
    "plt.show()"
   ]
  },
  {
   "cell_type": "code",
   "execution_count": 32,
   "id": "86fa5ee1",
   "metadata": {},
   "outputs": [
    {
     "name": "stdout",
     "output_type": "stream",
     "text": [
      "ROC AUC: 0.87\n"
     ]
    },
    {
     "data": {
      "image/png": "[encoded data removed]",
      "text/plain": [
       "<Figure size 640x480 with 1 Axes>"
      ]
     },
     "metadata": {},
     "output_type": "display_data"
    }
   ],
   "source": [
    "# Get the predicted probabilities for the positive class (class 1)\n",
    "y_test_pred_proba = pipe.predict_proba(X_test)[:, 1]\n",
    "\n",
    "# Calculate False Positive Rate (fpr), True Positive Rate (tpr), and thresholds\n",
    "fpr, tpr, thresholds = roc_curve(y_test, y_test_pred_proba)\n",
    "\n",
    "# Computing the AUC (Area Under the Curve)\n",
    "auc = roc_auc_score(y_test, y_test_pred_proba)\n",
    "print(f'ROC AUC: {auc:.2f}')\n",
    "\n",
    "# Plotting the ROC curve\n",
    "plt.figure()\n",
    "plt.plot(fpr, tpr, color='blue', label=f'ROC curve (AUC = {auc:.2f})')\n",
    "plt.plot([0, 1], [0, 1], color='gray', linestyle='--')  # Dashed diagonal\n",
    "plt.xlim([0.0, 1.0])\n",
    "plt.ylim([0.0, 1.05])\n",
    "plt.xlabel('False Positive Rate')\n",
    "plt.ylabel('True Positive Rate')\n",
    "plt.title('Logit: ROC Curve')\n",
    "plt.legend(loc=\"lower right\")\n",
    "plt.show()"
   ]
  },
  {
   "cell_type": "code",
   "execution_count": 20,
   "id": "e669ad16",
   "metadata": {},
   "outputs": [
    {
     "data": {
      "text/plain": [
       "<Axes: ylabel='Feature'>"
      ]
     },
     "execution_count": 20,
     "metadata": {},
     "output_type": "execute_result"
    },
    {
     "data": {
      "image/png": "[encoded data removed]",
      "text/plain": [
       "<Figure size 1000x600 with 1 Axes>"
      ]
     },
     "metadata": {},
     "output_type": "display_data"
    }
   ],
   "source": [
    "#feature impotance\n",
    "coefficients = logit.coef_[0]\n",
    "\n",
    "feature_importance = pd.DataFrame({'Feature': X.columns, 'Importance': np.abs(coefficients)})\n",
    "feature_importance = feature_importance.sort_values('Importance', ascending=True)\n",
    "feature_importance.plot(x='Feature', y='Importance', kind='barh', figsize=(10, 6))"
   ]
  },
  {
   "cell_type": "code",
   "execution_count": 34,
   "id": "4045267e",
   "metadata": {},
   "outputs": [
    {
     "name": "stderr",
     "output_type": "stream",
     "text": [
      "Using 524 background data samples could cause slower run times. Consider using shap.sample(data, K) or shap.kmeans(data, K) to summarize the background as K samples.\n"
     ]
    },
    {
     "data": {
      "application/vnd.jupyter.widget-view+json": {
       "model_id": "42424eca424641dbb0088ceac749de36",
       "version_major": 2,
       "version_minor": 0
      },
      "text/plain": [
       "  0%|          | 0/524 [00:00<?, ?it/s]"
      ]
     },
     "metadata": {},
     "output_type": "display_data"
    },
    {
     "ename": "KeyboardInterrupt",
     "evalue": "",
     "output_type": "error",
     "traceback": [
      "\u001b[1;31m---------------------------------------------------------------------------\u001b[0m",
      "\u001b[1;31mKeyboardInterrupt\u001b[0m                         Traceback (most recent call last)",
      "Cell \u001b[1;32mIn[34], line 2\u001b[0m\n\u001b[0;32m      1\u001b[0m explainer \u001b[38;5;241m=\u001b[39m shap\u001b[38;5;241m.\u001b[39mKernelExplainer(logit\u001b[38;5;241m.\u001b[39mpredict, X_train)\n\u001b[1;32m----> 2\u001b[0m shap_values \u001b[38;5;241m=\u001b[39m \u001b[43mexplainer\u001b[49m\u001b[38;5;241;43m.\u001b[39;49m\u001b[43mshap_values\u001b[49m\u001b[43m(\u001b[49m\u001b[43mX_train\u001b[49m\u001b[43m)\u001b[49m\n\u001b[0;32m      4\u001b[0m \u001b[38;5;66;03m# Summary plot (feature importance)\u001b[39;00m\n\u001b[0;32m      5\u001b[0m shap\u001b[38;5;241m.\u001b[39msummary_plot(shap_values, X_train)\n",
      "File \u001b[1;32m~\\AppData\\Local\\Packages\\PythonSoftwareFoundation.Python.3.11_qbz5n2kfra8p0\\LocalCache\\local-packages\\Python311\\site-packages\\shap\\explainers\\_kernel.py:271\u001b[0m, in \u001b[0;36mKernelExplainer.shap_values\u001b[1;34m(self, X, **kwargs)\u001b[0m\n\u001b[0;32m    269\u001b[0m \u001b[38;5;28;01mif\u001b[39;00m \u001b[38;5;28mself\u001b[39m\u001b[38;5;241m.\u001b[39mkeep_index:\n\u001b[0;32m    270\u001b[0m     data \u001b[38;5;241m=\u001b[39m convert_to_instance_with_index(data, column_name, index_value[i:i \u001b[38;5;241m+\u001b[39m \u001b[38;5;241m1\u001b[39m], index_name)\n\u001b[1;32m--> 271\u001b[0m explanations\u001b[38;5;241m.\u001b[39mappend(\u001b[38;5;28;43mself\u001b[39;49m\u001b[38;5;241;43m.\u001b[39;49m\u001b[43mexplain\u001b[49m\u001b[43m(\u001b[49m\u001b[43mdata\u001b[49m\u001b[43m,\u001b[49m\u001b[43m \u001b[49m\u001b[38;5;241;43m*\u001b[39;49m\u001b[38;5;241;43m*\u001b[39;49m\u001b[43mkwargs\u001b[49m\u001b[43m)\u001b[49m)\n\u001b[0;32m    272\u001b[0m \u001b[38;5;28;01mif\u001b[39;00m kwargs\u001b[38;5;241m.\u001b[39mget(\u001b[38;5;124m\"\u001b[39m\u001b[38;5;124mgc_collect\u001b[39m\u001b[38;5;124m\"\u001b[39m, \u001b[38;5;28;01mFalse\u001b[39;00m):\n\u001b[0;32m    273\u001b[0m     gc\u001b[38;5;241m.\u001b[39mcollect()\n",
      "File \u001b[1;32m~\\AppData\\Local\\Packages\\PythonSoftwareFoundation.Python.3.11_qbz5n2kfra8p0\\LocalCache\\local-packages\\Python311\\site-packages\\shap\\explainers\\_kernel.py:476\u001b[0m, in \u001b[0;36mKernelExplainer.explain\u001b[1;34m(self, incoming_instance, **kwargs)\u001b[0m\n\u001b[0;32m    473\u001b[0m     \u001b[38;5;28mself\u001b[39m\u001b[38;5;241m.\u001b[39mkernelWeights[nfixed_samples:] \u001b[38;5;241m*\u001b[39m\u001b[38;5;241m=\u001b[39m weight_left \u001b[38;5;241m/\u001b[39m \u001b[38;5;28mself\u001b[39m\u001b[38;5;241m.\u001b[39mkernelWeights[nfixed_samples:]\u001b[38;5;241m.\u001b[39msum()\n\u001b[0;32m    475\u001b[0m \u001b[38;5;66;03m# execute the model on the synthetic samples we have created\u001b[39;00m\n\u001b[1;32m--> 476\u001b[0m \u001b[38;5;28;43mself\u001b[39;49m\u001b[38;5;241;43m.\u001b[39;49m\u001b[43mrun\u001b[49m\u001b[43m(\u001b[49m\u001b[43m)\u001b[49m\n\u001b[0;32m    478\u001b[0m \u001b[38;5;66;03m# solve then expand the feature importance (Shapley value) vector to contain the non-varying features\u001b[39;00m\n\u001b[0;32m    479\u001b[0m phi \u001b[38;5;241m=\u001b[39m np\u001b[38;5;241m.\u001b[39mzeros((\u001b[38;5;28mself\u001b[39m\u001b[38;5;241m.\u001b[39mdata\u001b[38;5;241m.\u001b[39mgroups_size, \u001b[38;5;28mself\u001b[39m\u001b[38;5;241m.\u001b[39mD))\n",
      "File \u001b[1;32m~\\AppData\\Local\\Packages\\PythonSoftwareFoundation.Python.3.11_qbz5n2kfra8p0\\LocalCache\\local-packages\\Python311\\site-packages\\shap\\explainers\\_kernel.py:627\u001b[0m, in \u001b[0;36mKernelExplainer.run\u001b[1;34m(self)\u001b[0m\n\u001b[0;32m    625\u001b[0m eyVal \u001b[38;5;241m=\u001b[39m np\u001b[38;5;241m.\u001b[39mzeros(\u001b[38;5;28mself\u001b[39m\u001b[38;5;241m.\u001b[39mD)\n\u001b[0;32m    626\u001b[0m \u001b[38;5;28;01mfor\u001b[39;00m j \u001b[38;5;129;01min\u001b[39;00m \u001b[38;5;28mrange\u001b[39m(\u001b[38;5;28mself\u001b[39m\u001b[38;5;241m.\u001b[39mN):\n\u001b[1;32m--> 627\u001b[0m     eyVal \u001b[38;5;241m+\u001b[39m\u001b[38;5;241m=\u001b[39m \u001b[38;5;28mself\u001b[39m\u001b[38;5;241m.\u001b[39my[i \u001b[38;5;241m*\u001b[39m \u001b[38;5;28mself\u001b[39m\u001b[38;5;241m.\u001b[39mN \u001b[38;5;241m+\u001b[39m j, :] \u001b[38;5;241m*\u001b[39m \u001b[38;5;28mself\u001b[39m\u001b[38;5;241m.\u001b[39mdata\u001b[38;5;241m.\u001b[39mweights[j]\n\u001b[0;32m    629\u001b[0m \u001b[38;5;28mself\u001b[39m\u001b[38;5;241m.\u001b[39mey[i, :] \u001b[38;5;241m=\u001b[39m eyVal\n\u001b[0;32m    630\u001b[0m \u001b[38;5;28mself\u001b[39m\u001b[38;5;241m.\u001b[39mnsamplesRun \u001b[38;5;241m+\u001b[39m\u001b[38;5;241m=\u001b[39m \u001b[38;5;241m1\u001b[39m\n",
      "\u001b[1;31mKeyboardInterrupt\u001b[0m: "
     ]
    }
   ],
   "source": [
    "# explainer = shap.KernelExplainer(logit.predict, X_train)\n",
    "# shap_values = explainer.shap_values(X_train)\n",
    "\n",
    "# # Summary plot (feature importance)\n",
    "# shap.summary_plot(shap_values, X_train)\n"
   ]
  },
  {
   "cell_type": "code",
   "execution_count": null,
   "id": "34499296",
   "metadata": {},
   "outputs": [],
   "source": [
    "# Create SHAP explainer for your model\n",
    "explainer = shap.Explainer(logit, X_train)  \n",
    "shap_values = explainer(X_train)\n",
    "\n",
    "# SHAP bar plot (feature importance)\n",
    "shap.plots.bar(shap_values)"
   ]
  },
  {
   "cell_type": "code",
   "execution_count": 35,
   "id": "89835cc1",
   "metadata": {},
   "outputs": [],
   "source": [
    "# Making predictions (probabilities)\n",
    "y_prob = pipe.predict_proba(X_test)"
   ]
  },
  {
   "cell_type": "code",
   "execution_count": 36,
   "id": "d5cee6cf",
   "metadata": {},
   "outputs": [],
   "source": [
    "predicted_classes = np.argmax(y_prob, axis=1)\n",
    "\n",
    "# Extracting the confidence score (max probability in each row)\n",
    "confidence_scores = np.max(y_prob, axis=1)"
   ]
  },
  {
   "cell_type": "code",
   "execution_count": 37,
   "id": "4e0ecebc",
   "metadata": {},
   "outputs": [
    {
     "name": "stdout",
     "output_type": "stream",
     "text": [
      "Sample 1: Predicted Class = 0, Confidence Score = 0.60\n",
      "Sample 2: Predicted Class = 0, Confidence Score = 0.87\n",
      "Sample 3: Predicted Class = 0, Confidence Score = 0.85\n",
      "Sample 4: Predicted Class = 1, Confidence Score = 0.55\n",
      "Sample 5: Predicted Class = 0, Confidence Score = 0.70\n",
      "Sample 6: Predicted Class = 0, Confidence Score = 0.93\n",
      "Sample 7: Predicted Class = 1, Confidence Score = 0.85\n",
      "Sample 8: Predicted Class = 0, Confidence Score = 0.92\n",
      "Sample 9: Predicted Class = 0, Confidence Score = 0.96\n",
      "Sample 10: Predicted Class = 0, Confidence Score = 0.71\n",
      "Sample 11: Predicted Class = 0, Confidence Score = 0.95\n",
      "Sample 12: Predicted Class = 0, Confidence Score = 0.84\n",
      "Sample 13: Predicted Class = 1, Confidence Score = 0.96\n",
      "Sample 14: Predicted Class = 1, Confidence Score = 0.88\n",
      "Sample 15: Predicted Class = 0, Confidence Score = 0.71\n",
      "Sample 16: Predicted Class = 1, Confidence Score = 0.98\n",
      "Sample 17: Predicted Class = 1, Confidence Score = 0.86\n",
      "Sample 18: Predicted Class = 1, Confidence Score = 0.78\n",
      "Sample 19: Predicted Class = 0, Confidence Score = 0.87\n",
      "Sample 20: Predicted Class = 1, Confidence Score = 0.98\n",
      "Sample 21: Predicted Class = 0, Confidence Score = 0.68\n",
      "Sample 22: Predicted Class = 0, Confidence Score = 0.70\n",
      "Sample 23: Predicted Class = 0, Confidence Score = 0.88\n",
      "Sample 24: Predicted Class = 1, Confidence Score = 0.84\n",
      "Sample 25: Predicted Class = 1, Confidence Score = 0.93\n",
      "Sample 26: Predicted Class = 0, Confidence Score = 0.91\n",
      "Sample 27: Predicted Class = 0, Confidence Score = 0.95\n",
      "Sample 28: Predicted Class = 0, Confidence Score = 0.91\n",
      "Sample 29: Predicted Class = 1, Confidence Score = 0.89\n",
      "Sample 30: Predicted Class = 0, Confidence Score = 0.83\n",
      "Sample 31: Predicted Class = 1, Confidence Score = 0.98\n",
      "Sample 32: Predicted Class = 0, Confidence Score = 0.85\n",
      "Sample 33: Predicted Class = 0, Confidence Score = 0.61\n",
      "Sample 34: Predicted Class = 1, Confidence Score = 0.94\n",
      "Sample 35: Predicted Class = 0, Confidence Score = 0.88\n",
      "Sample 36: Predicted Class = 0, Confidence Score = 0.84\n",
      "Sample 37: Predicted Class = 1, Confidence Score = 0.90\n",
      "Sample 38: Predicted Class = 1, Confidence Score = 0.86\n",
      "Sample 39: Predicted Class = 0, Confidence Score = 0.89\n",
      "Sample 40: Predicted Class = 0, Confidence Score = 0.84\n",
      "Sample 41: Predicted Class = 0, Confidence Score = 0.72\n",
      "Sample 42: Predicted Class = 0, Confidence Score = 0.64\n",
      "Sample 43: Predicted Class = 1, Confidence Score = 0.94\n",
      "Sample 44: Predicted Class = 0, Confidence Score = 0.80\n",
      "Sample 45: Predicted Class = 0, Confidence Score = 0.63\n",
      "Sample 46: Predicted Class = 0, Confidence Score = 0.89\n",
      "Sample 47: Predicted Class = 1, Confidence Score = 0.94\n",
      "Sample 48: Predicted Class = 0, Confidence Score = 0.55\n",
      "Sample 49: Predicted Class = 0, Confidence Score = 0.95\n",
      "Sample 50: Predicted Class = 0, Confidence Score = 0.63\n",
      "Sample 51: Predicted Class = 1, Confidence Score = 0.98\n",
      "Sample 52: Predicted Class = 0, Confidence Score = 0.67\n",
      "Sample 53: Predicted Class = 1, Confidence Score = 0.76\n",
      "Sample 54: Predicted Class = 1, Confidence Score = 0.91\n",
      "Sample 55: Predicted Class = 1, Confidence Score = 0.53\n",
      "Sample 56: Predicted Class = 0, Confidence Score = 0.85\n",
      "Sample 57: Predicted Class = 1, Confidence Score = 0.78\n",
      "Sample 58: Predicted Class = 1, Confidence Score = 0.99\n",
      "Sample 59: Predicted Class = 1, Confidence Score = 0.83\n",
      "Sample 60: Predicted Class = 0, Confidence Score = 0.54\n",
      "Sample 61: Predicted Class = 0, Confidence Score = 0.90\n",
      "Sample 62: Predicted Class = 1, Confidence Score = 0.72\n",
      "Sample 63: Predicted Class = 0, Confidence Score = 0.93\n",
      "Sample 64: Predicted Class = 1, Confidence Score = 0.85\n",
      "Sample 65: Predicted Class = 1, Confidence Score = 0.74\n",
      "Sample 66: Predicted Class = 0, Confidence Score = 0.85\n",
      "Sample 67: Predicted Class = 0, Confidence Score = 0.96\n",
      "Sample 68: Predicted Class = 1, Confidence Score = 0.97\n",
      "Sample 69: Predicted Class = 0, Confidence Score = 0.98\n",
      "Sample 70: Predicted Class = 1, Confidence Score = 0.94\n",
      "Sample 71: Predicted Class = 1, Confidence Score = 0.75\n",
      "Sample 72: Predicted Class = 0, Confidence Score = 0.66\n",
      "Sample 73: Predicted Class = 1, Confidence Score = 0.97\n",
      "Sample 74: Predicted Class = 1, Confidence Score = 0.96\n",
      "Sample 75: Predicted Class = 1, Confidence Score = 0.55\n",
      "Sample 76: Predicted Class = 1, Confidence Score = 0.92\n",
      "Sample 77: Predicted Class = 0, Confidence Score = 0.89\n",
      "Sample 78: Predicted Class = 1, Confidence Score = 0.73\n",
      "Sample 79: Predicted Class = 0, Confidence Score = 0.60\n",
      "Sample 80: Predicted Class = 1, Confidence Score = 0.91\n",
      "Sample 81: Predicted Class = 1, Confidence Score = 0.84\n",
      "Sample 82: Predicted Class = 1, Confidence Score = 0.85\n",
      "Sample 83: Predicted Class = 1, Confidence Score = 0.59\n",
      "Sample 84: Predicted Class = 1, Confidence Score = 0.66\n",
      "Sample 85: Predicted Class = 1, Confidence Score = 0.57\n",
      "Sample 86: Predicted Class = 0, Confidence Score = 0.84\n",
      "Sample 87: Predicted Class = 0, Confidence Score = 0.90\n",
      "Sample 88: Predicted Class = 0, Confidence Score = 0.60\n",
      "Sample 89: Predicted Class = 0, Confidence Score = 0.55\n",
      "Sample 90: Predicted Class = 0, Confidence Score = 0.96\n",
      "Sample 91: Predicted Class = 1, Confidence Score = 0.74\n",
      "Sample 92: Predicted Class = 1, Confidence Score = 0.57\n",
      "Sample 93: Predicted Class = 1, Confidence Score = 0.97\n",
      "Sample 94: Predicted Class = 1, Confidence Score = 0.90\n",
      "Sample 95: Predicted Class = 0, Confidence Score = 0.69\n",
      "Sample 96: Predicted Class = 0, Confidence Score = 0.85\n",
      "Sample 97: Predicted Class = 1, Confidence Score = 0.72\n",
      "Sample 98: Predicted Class = 0, Confidence Score = 0.93\n",
      "Sample 99: Predicted Class = 1, Confidence Score = 0.72\n",
      "Sample 100: Predicted Class = 0, Confidence Score = 0.72\n",
      "Sample 101: Predicted Class = 1, Confidence Score = 0.88\n",
      "Sample 102: Predicted Class = 1, Confidence Score = 0.98\n",
      "Sample 103: Predicted Class = 0, Confidence Score = 0.95\n",
      "Sample 104: Predicted Class = 0, Confidence Score = 0.93\n",
      "Sample 105: Predicted Class = 0, Confidence Score = 0.89\n",
      "Sample 106: Predicted Class = 1, Confidence Score = 0.98\n",
      "Sample 107: Predicted Class = 1, Confidence Score = 0.93\n",
      "Sample 108: Predicted Class = 0, Confidence Score = 0.88\n",
      "Sample 109: Predicted Class = 0, Confidence Score = 0.85\n",
      "Sample 110: Predicted Class = 1, Confidence Score = 0.96\n",
      "Sample 111: Predicted Class = 0, Confidence Score = 0.97\n",
      "Sample 112: Predicted Class = 1, Confidence Score = 0.89\n",
      "Sample 113: Predicted Class = 0, Confidence Score = 0.60\n",
      "Sample 114: Predicted Class = 0, Confidence Score = 0.89\n",
      "Sample 115: Predicted Class = 1, Confidence Score = 0.74\n",
      "Sample 116: Predicted Class = 1, Confidence Score = 0.73\n",
      "Sample 117: Predicted Class = 0, Confidence Score = 0.66\n",
      "Sample 118: Predicted Class = 1, Confidence Score = 0.97\n",
      "Sample 119: Predicted Class = 1, Confidence Score = 0.53\n",
      "Sample 120: Predicted Class = 0, Confidence Score = 0.82\n",
      "Sample 121: Predicted Class = 1, Confidence Score = 0.82\n",
      "Sample 122: Predicted Class = 0, Confidence Score = 0.88\n",
      "Sample 123: Predicted Class = 0, Confidence Score = 0.89\n",
      "Sample 124: Predicted Class = 1, Confidence Score = 0.93\n",
      "Sample 125: Predicted Class = 1, Confidence Score = 0.68\n",
      "Sample 126: Predicted Class = 1, Confidence Score = 0.85\n",
      "Sample 127: Predicted Class = 0, Confidence Score = 0.84\n",
      "Sample 128: Predicted Class = 0, Confidence Score = 0.91\n",
      "Sample 129: Predicted Class = 0, Confidence Score = 0.86\n",
      "Sample 130: Predicted Class = 1, Confidence Score = 0.89\n",
      "Sample 131: Predicted Class = 1, Confidence Score = 0.94\n",
      "Sample 132: Predicted Class = 1, Confidence Score = 0.94\n",
      "Sample 133: Predicted Class = 1, Confidence Score = 0.96\n",
      "Sample 134: Predicted Class = 0, Confidence Score = 0.96\n",
      "Sample 135: Predicted Class = 1, Confidence Score = 0.98\n",
      "Sample 136: Predicted Class = 0, Confidence Score = 0.91\n",
      "Sample 137: Predicted Class = 0, Confidence Score = 0.87\n",
      "Sample 138: Predicted Class = 1, Confidence Score = 0.90\n",
      "Sample 139: Predicted Class = 0, Confidence Score = 0.98\n",
      "Sample 140: Predicted Class = 1, Confidence Score = 0.98\n",
      "Sample 141: Predicted Class = 0, Confidence Score = 0.75\n",
      "Sample 142: Predicted Class = 1, Confidence Score = 0.89\n",
      "Sample 143: Predicted Class = 0, Confidence Score = 0.84\n",
      "Sample 144: Predicted Class = 0, Confidence Score = 0.59\n",
      "Sample 145: Predicted Class = 1, Confidence Score = 0.98\n",
      "Sample 146: Predicted Class = 1, Confidence Score = 0.77\n",
      "Sample 147: Predicted Class = 0, Confidence Score = 0.69\n",
      "Sample 148: Predicted Class = 0, Confidence Score = 0.55\n",
      "Sample 149: Predicted Class = 1, Confidence Score = 0.53\n",
      "Sample 150: Predicted Class = 0, Confidence Score = 0.99\n",
      "Sample 151: Predicted Class = 0, Confidence Score = 0.97\n",
      "Sample 152: Predicted Class = 0, Confidence Score = 0.76\n",
      "Sample 153: Predicted Class = 1, Confidence Score = 0.89\n",
      "Sample 154: Predicted Class = 0, Confidence Score = 0.70\n",
      "Sample 155: Predicted Class = 0, Confidence Score = 0.81\n",
      "Sample 156: Predicted Class = 0, Confidence Score = 0.97\n",
      "Sample 157: Predicted Class = 1, Confidence Score = 0.79\n",
      "Sample 158: Predicted Class = 1, Confidence Score = 0.75\n",
      "Sample 159: Predicted Class = 1, Confidence Score = 0.95\n",
      "Sample 160: Predicted Class = 1, Confidence Score = 0.91\n",
      "Sample 161: Predicted Class = 0, Confidence Score = 0.87\n",
      "Sample 162: Predicted Class = 0, Confidence Score = 0.94\n",
      "Sample 163: Predicted Class = 0, Confidence Score = 0.96\n",
      "Sample 164: Predicted Class = 1, Confidence Score = 0.98\n"
     ]
    }
   ],
   "source": [
    "# Printing the class along with the confidence score\n",
    "for i, (pred_class, confidence) in enumerate(zip(predicted_classes, confidence_scores)):\n",
    "    print(f\"Sample {i+1}: Predicted Class = {pred_class}, Confidence Score = {confidence:.2f}\")"
   ]
  },
  {
   "cell_type": "code",
   "execution_count": null,
   "id": "e8dca5fa",
   "metadata": {},
   "outputs": [],
   "source": [
    "# # save the model \n",
    "# filename = 'Treatment_svm.sav'\n",
    "# # Save the fitted model\n",
    "# joblib.dump(logit, 'rop_pipe.joblib')\n"
   ]
  },
  {
   "cell_type": "code",
   "execution_count": null,
   "id": "7e97911d",
   "metadata": {},
   "outputs": [],
   "source": []
  }
 ],
 "metadata": {
  "kernelspec": {
   "display_name": "Python 3 (ipykernel)",
   "language": "python",
   "name": "python3"
  },
  "language_info": {
   "codemirror_mode": {
    "name": "ipython",
    "version": 3
   },
   "file_extension": ".py",
   "mimetype": "text/x-python",
   "name": "python",
   "nbconvert_exporter": "python",
   "pygments_lexer": "ipython3",
   "version": "3.12.7"
  }
 },
 "nbformat": 4,
 "nbformat_minor": 5
}
